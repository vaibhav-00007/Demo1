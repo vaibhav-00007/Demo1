Investigate top-paying roles and skills in the data science industry.
Use Python to explore a real-live dataset on job postings.
For job-seekers: use these insights to help find the best job opportunities.
{
  "nbformat": 4,
  "nbformat_minor": 0,
  "metadata": {
    "colab": {
      "provenance": []
    },
    "kernelspec": {
      "name": "python3",
      "display_name": "Python 3"
    },
    "language_info": {
      "name": "python"
    }
  },
  "cells": [
    {
      "cell_type": "code",
      "execution_count": 1,
      "metadata": {
        "id": "8V6BcBv3foOF"
      },
      "outputs": [],
      "source": [
        "my_skills = {'Python', 'SQL', 'Excel'}"
      ]
    },
    {
      "cell_type": "code",
      "source": [
        "job_roles = [\n",
        "    {'role': 'Data Analyst', 'skills': ['Python', 'SQL', 'Excel']},\n",
        "    {'role': 'Data Scientist', 'skills': ['Python', 'R', 'Machine Learning', 'Deep Learning']},\n",
        "    {'role': 'Machine Learning Engineer', 'skills': ['Python', 'TensorFlow', 'PyTorch', 'Scikit-Learn']},\n",
        "    {'role': 'Data Engineer', 'skills': ['Python', 'Apache Spark', 'Hadoop', 'SQL']},\n",
        "    {'role': 'Business Intelligence Analyst', 'skills': ['Python', 'SQL', 'Tableau', 'Power BI', 'Excel']},\n",
        "    {'role': 'Quantitative Analyst', 'skills': ['R', 'Python', 'MATLAB', 'Statistics']},\n",
        "    {'role': 'Operations Analyst', 'skills': ['Python', 'SQL', 'Data Visualization', 'Process Improvement']},\n",
        "    {'role': 'Database Administrator', 'skills': ['SQL', 'Oracle', 'MySQL', 'Database Management']},\n",
        "    {'role': 'AI Engineer', 'skills': ['Python', 'TensorFlow', 'PyTorch', 'Computer Vision']},\n",
        "    {'role': 'Statistician', 'skills': ['R', 'SAS', 'Python', 'Statistical Modeling']}\n",
        "]"
      ],
      "metadata": {
        "id": "oYLJPPQDigiK"
      },
      "execution_count": 2,
      "outputs": []
    },
    {
      "cell_type": "code",
      "source": [
        "for job in job_roles:\n",
        "  print(job['skills'])"
      ],
      "metadata": {
        "colab": {
          "base_uri": "https://localhost:8080/"
        },
        "id": "2kilNWi2i2ZI",
        "outputId": "8b07f468-2c35-4093-9a1a-1b25db8563a8"
      },
      "execution_count": 3,
      "outputs": [
        {
          "output_type": "stream",
          "name": "stdout",
          "text": [
            "['Python', 'SQL', 'Excel']\n",
            "['Python', 'R', 'Machine Learning', 'Deep Learning']\n",
            "['Python', 'TensorFlow', 'PyTorch', 'Scikit-Learn']\n",
            "['Python', 'Apache Spark', 'Hadoop', 'SQL']\n",
            "['Python', 'SQL', 'Tableau', 'Power BI', 'Excel']\n",
            "['R', 'Python', 'MATLAB', 'Statistics']\n",
            "['Python', 'SQL', 'Data Visualization', 'Process Improvement']\n",
            "['SQL', 'Oracle', 'MySQL', 'Database Management']\n",
            "['Python', 'TensorFlow', 'PyTorch', 'Computer Vision']\n",
            "['R', 'SAS', 'Python', 'Statistical Modeling']\n"
          ]
        }
      ]
    },
    {
      "cell_type": "code",
      "source": [],
      "metadata": {
        "id": "WLW4xxSRjHJo"
      },
      "execution_count": null,
      "outputs": []
    }
  ]
}
